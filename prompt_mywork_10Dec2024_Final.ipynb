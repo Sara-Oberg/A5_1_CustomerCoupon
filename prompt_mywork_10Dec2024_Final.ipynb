{
  "cells": [
    {
      "cell_type": "markdown",
      "metadata": {
        "id": "CcUT6Fon_qRE"
      },
      "source": [
        "### Required Assignment 5.1: Will the Customer Accept the Coupon?\n",
        "\n",
        "**Context**\n",
        "\n",
        "Imagine driving through town and a coupon is delivered to your cell phone for a restaurant near where you are driving. Would you accept that coupon and take a short detour to the restaurant? Would you accept the coupon but use it on a subsequent trip? Would you ignore the coupon entirely? What if the coupon was for a bar instead of a restaurant? What about a coffee house? Would you accept a bar coupon with a minor passenger in the car? What about if it was just you and your partner in the car? Would weather impact the rate of acceptance? What about the time of day?\n",
        "\n",
        "Obviously, proximity to the business is a factor on whether the coupon is delivered to the driver or not, but what are the factors that determine whether a driver accepts the coupon once it is delivered to them? How would you determine whether a driver is likely to accept a coupon?\n",
        "\n",
        "**Overview**\n",
        "\n",
        "The goal of this project is to use what you know about visualizations and probability distributions to distinguish between customers who accepted a driving coupon versus those that did not.\n",
        "\n",
        "**Data**\n",
        "\n",
        "This data comes to us from the UCI Machine Learning repository and was collected via a survey on Amazon Mechanical Turk. The survey describes different driving scenarios including the destination, current time, weather, passenger, etc., and then ask the person whether he will accept the coupon if he is the driver. Answers that the user will drive there ‘right away’ or ‘later before the coupon expires’ are labeled as ‘Y = 1’ and answers ‘no, I do not want the coupon’ are labeled as ‘Y = 0’.  There are five different types of coupons -- less expensive restaurants (under \\$20), coffee houses, carry out & take away, bar, and more expensive restaurants (\\$20 - $50)."
      ]
    },
    {
      "cell_type": "markdown",
      "metadata": {
        "id": "1wORvMBJ_qRF"
      },
      "source": [
        "**Deliverables**\n",
        "\n",
        "Your final product should be a brief report that highlights the differences between customers who did and did not accept the coupons.  To explore the data you will utilize your knowledge of plotting, statistical summaries, and visualization using Python. You will publish your findings in a public facing github repository as your first portfolio piece.\n",
        "\n",
        "\n",
        "\n"
      ]
    },
    {
      "cell_type": "markdown",
      "metadata": {
        "id": "pG6_Ym6q_qRG"
      },
      "source": [
        "### Data Description\n",
        "Keep in mind that these values mentioned below are average values.\n",
        "\n",
        "The attributes of this data set include:\n",
        "1. User attributes\n",
        "    -  Gender: male, female\n",
        "    -  Age: below 21, 21 to 25, 26 to 30, etc.\n",
        "    -  Marital Status: single, married partner, unmarried partner, or widowed\n",
        "    -  Number of children: 0, 1, or more than 1\n",
        "    -  Education: high school, bachelors degree, associates degree, or graduate degree\n",
        "    -  Occupation: architecture & engineering, business & financial, etc.\n",
        "    -  Annual income: less than \\\\$12500, \\\\$12500 - \\\\$24999, \\\\$25000 - \\\\$37499, etc.\n",
        "    -  Number of times that he/she goes to a bar: 0, less than 1, 1 to 3, 4 to 8 or greater than 8\n",
        "    -  Number of times that he/she buys takeaway food: 0, less than 1, 1 to 3, 4 to 8 or greater\n",
        "    than 8\n",
        "    -  Number of times that he/she goes to a coffee house: 0, less than 1, 1 to 3, 4 to 8 or\n",
        "    greater than 8\n",
        "    -  Number of times that he/she eats at a restaurant with average expense less than \\\\$20 per\n",
        "    person: 0, less than 1, 1 to 3, 4 to 8 or greater than 8\n",
        "    -  Number of times that he/she goes to a bar: 0, less than 1, 1 to 3, 4 to 8 or greater than 8\n",
        "    \n",
        "\n",
        "2. Contextual attributes\n",
        "    - Driving destination: home, work, or no urgent destination\n",
        "    - Location of user, coupon and destination: we provide a map to show the geographical\n",
        "    location of the user, destination, and the venue, and we mark the distance between each\n",
        "    two places with time of driving. The user can see whether the venue is in the same\n",
        "    direction as the destination.\n",
        "    - Weather: sunny, rainy, or snowy\n",
        "    - Temperature: 30F, 55F, or 80F\n",
        "    - Time: 10AM, 2PM, or 6PM\n",
        "    - Passenger: alone, partner, kid(s), or friend(s)\n",
        "\n",
        "\n",
        "3. Coupon attributes\n",
        "    - time before it expires: 2 hours or one day"
      ]
    },
    {
      "cell_type": "code",
      "execution_count": 1,
      "metadata": {
        "id": "dzNoP3o__qRG"
      },
      "outputs": [],
      "source": [
        "import matplotlib.pyplot as plt\n",
        "import seaborn as sns\n",
        "import pandas as pd\n",
        "import numpy as np\n",
        "import plotly.express as px"
      ]
    },
    {
      "cell_type": "markdown",
      "metadata": {
        "id": "Ct8pI1uE_qRG"
      },
      "source": [
        "### Problems\n",
        "\n",
        "Use the prompts below to get started with your data analysis.  \n",
        "\n",
        "1. Read in the `coupons.csv` file.\n",
        "\n",
        "\n"
      ]
    },
    {
      "cell_type": "code",
      "execution_count": 3,
      "metadata": {
        "id": "X0vbffYg_qRH"
      },
      "outputs": [],
      "source": [
        "# To load dataset coupons with a csv file\n",
        "data = pd.read_csv('coupons.csv')"
      ]
    },
    {
      "cell_type": "code",
      "execution_count": null,
      "metadata": {
        "id": "TXofQ_DF_qRH",
        "outputId": "782557aa-76f9-42a0-ab3d-1212378b5f7d",
        "colab": {
          "base_uri": "https://localhost:8080/",
          "height": 342
        }
      },
      "outputs": [
        {
          "output_type": "execute_result",
          "data": {
            "text/plain": [
              "       destination  passanger weather  temperature  time  \\\n",
              "0  No Urgent Place      Alone   Sunny           55   2PM   \n",
              "1  No Urgent Place  Friend(s)   Sunny           80  10AM   \n",
              "2  No Urgent Place  Friend(s)   Sunny           80  10AM   \n",
              "3  No Urgent Place  Friend(s)   Sunny           80   2PM   \n",
              "4  No Urgent Place  Friend(s)   Sunny           80   2PM   \n",
              "\n",
              "                  coupon expiration  gender age      maritalStatus  ...  \\\n",
              "0        Restaurant(<20)         1d  Female  21  Unmarried partner  ...   \n",
              "1           Coffee House         2h  Female  21  Unmarried partner  ...   \n",
              "2  Carry out & Take away         2h  Female  21  Unmarried partner  ...   \n",
              "3           Coffee House         2h  Female  21  Unmarried partner  ...   \n",
              "4           Coffee House         1d  Female  21  Unmarried partner  ...   \n",
              "\n",
              "   CoffeeHouse CarryAway RestaurantLessThan20 Restaurant20To50  \\\n",
              "0        never       NaN                  4~8              1~3   \n",
              "1        never       NaN                  4~8              1~3   \n",
              "2        never       NaN                  4~8              1~3   \n",
              "3        never       NaN                  4~8              1~3   \n",
              "4        never       NaN                  4~8              1~3   \n",
              "\n",
              "  toCoupon_GEQ5min toCoupon_GEQ15min toCoupon_GEQ25min direction_same  \\\n",
              "0                1                 0                 0              0   \n",
              "1                1                 0                 0              0   \n",
              "2                1                 1                 0              0   \n",
              "3                1                 1                 0              0   \n",
              "4                1                 1                 0              0   \n",
              "\n",
              "  direction_opp  Y  \n",
              "0             1  1  \n",
              "1             1  0  \n",
              "2             1  1  \n",
              "3             1  0  \n",
              "4             1  0  \n",
              "\n",
              "[5 rows x 26 columns]"
            ],
            "text/html": [
              "\n",
              "  <div id=\"df-69d5ea03-a99d-46c7-a9e9-e465e1a60181\" class=\"colab-df-container\">\n",
              "    <div>\n",
              "<style scoped>\n",
              "    .dataframe tbody tr th:only-of-type {\n",
              "        vertical-align: middle;\n",
              "    }\n",
              "\n",
              "    .dataframe tbody tr th {\n",
              "        vertical-align: top;\n",
              "    }\n",
              "\n",
              "    .dataframe thead th {\n",
              "        text-align: right;\n",
              "    }\n",
              "</style>\n",
              "<table border=\"1\" class=\"dataframe\">\n",
              "  <thead>\n",
              "    <tr style=\"text-align: right;\">\n",
              "      <th></th>\n",
              "      <th>destination</th>\n",
              "      <th>passanger</th>\n",
              "      <th>weather</th>\n",
              "      <th>temperature</th>\n",
              "      <th>time</th>\n",
              "      <th>coupon</th>\n",
              "      <th>expiration</th>\n",
              "      <th>gender</th>\n",
              "      <th>age</th>\n",
              "      <th>maritalStatus</th>\n",
              "      <th>...</th>\n",
              "      <th>CoffeeHouse</th>\n",
              "      <th>CarryAway</th>\n",
              "      <th>RestaurantLessThan20</th>\n",
              "      <th>Restaurant20To50</th>\n",
              "      <th>toCoupon_GEQ5min</th>\n",
              "      <th>toCoupon_GEQ15min</th>\n",
              "      <th>toCoupon_GEQ25min</th>\n",
              "      <th>direction_same</th>\n",
              "      <th>direction_opp</th>\n",
              "      <th>Y</th>\n",
              "    </tr>\n",
              "  </thead>\n",
              "  <tbody>\n",
              "    <tr>\n",
              "      <th>0</th>\n",
              "      <td>No Urgent Place</td>\n",
              "      <td>Alone</td>\n",
              "      <td>Sunny</td>\n",
              "      <td>55</td>\n",
              "      <td>2PM</td>\n",
              "      <td>Restaurant(&lt;20)</td>\n",
              "      <td>1d</td>\n",
              "      <td>Female</td>\n",
              "      <td>21</td>\n",
              "      <td>Unmarried partner</td>\n",
              "      <td>...</td>\n",
              "      <td>never</td>\n",
              "      <td>NaN</td>\n",
              "      <td>4~8</td>\n",
              "      <td>1~3</td>\n",
              "      <td>1</td>\n",
              "      <td>0</td>\n",
              "      <td>0</td>\n",
              "      <td>0</td>\n",
              "      <td>1</td>\n",
              "      <td>1</td>\n",
              "    </tr>\n",
              "    <tr>\n",
              "      <th>1</th>\n",
              "      <td>No Urgent Place</td>\n",
              "      <td>Friend(s)</td>\n",
              "      <td>Sunny</td>\n",
              "      <td>80</td>\n",
              "      <td>10AM</td>\n",
              "      <td>Coffee House</td>\n",
              "      <td>2h</td>\n",
              "      <td>Female</td>\n",
              "      <td>21</td>\n",
              "      <td>Unmarried partner</td>\n",
              "      <td>...</td>\n",
              "      <td>never</td>\n",
              "      <td>NaN</td>\n",
              "      <td>4~8</td>\n",
              "      <td>1~3</td>\n",
              "      <td>1</td>\n",
              "      <td>0</td>\n",
              "      <td>0</td>\n",
              "      <td>0</td>\n",
              "      <td>1</td>\n",
              "      <td>0</td>\n",
              "    </tr>\n",
              "    <tr>\n",
              "      <th>2</th>\n",
              "      <td>No Urgent Place</td>\n",
              "      <td>Friend(s)</td>\n",
              "      <td>Sunny</td>\n",
              "      <td>80</td>\n",
              "      <td>10AM</td>\n",
              "      <td>Carry out &amp; Take away</td>\n",
              "      <td>2h</td>\n",
              "      <td>Female</td>\n",
              "      <td>21</td>\n",
              "      <td>Unmarried partner</td>\n",
              "      <td>...</td>\n",
              "      <td>never</td>\n",
              "      <td>NaN</td>\n",
              "      <td>4~8</td>\n",
              "      <td>1~3</td>\n",
              "      <td>1</td>\n",
              "      <td>1</td>\n",
              "      <td>0</td>\n",
              "      <td>0</td>\n",
              "      <td>1</td>\n",
              "      <td>1</td>\n",
              "    </tr>\n",
              "    <tr>\n",
              "      <th>3</th>\n",
              "      <td>No Urgent Place</td>\n",
              "      <td>Friend(s)</td>\n",
              "      <td>Sunny</td>\n",
              "      <td>80</td>\n",
              "      <td>2PM</td>\n",
              "      <td>Coffee House</td>\n",
              "      <td>2h</td>\n",
              "      <td>Female</td>\n",
              "      <td>21</td>\n",
              "      <td>Unmarried partner</td>\n",
              "      <td>...</td>\n",
              "      <td>never</td>\n",
              "      <td>NaN</td>\n",
              "      <td>4~8</td>\n",
              "      <td>1~3</td>\n",
              "      <td>1</td>\n",
              "      <td>1</td>\n",
              "      <td>0</td>\n",
              "      <td>0</td>\n",
              "      <td>1</td>\n",
              "      <td>0</td>\n",
              "    </tr>\n",
              "    <tr>\n",
              "      <th>4</th>\n",
              "      <td>No Urgent Place</td>\n",
              "      <td>Friend(s)</td>\n",
              "      <td>Sunny</td>\n",
              "      <td>80</td>\n",
              "      <td>2PM</td>\n",
              "      <td>Coffee House</td>\n",
              "      <td>1d</td>\n",
              "      <td>Female</td>\n",
              "      <td>21</td>\n",
              "      <td>Unmarried partner</td>\n",
              "      <td>...</td>\n",
              "      <td>never</td>\n",
              "      <td>NaN</td>\n",
              "      <td>4~8</td>\n",
              "      <td>1~3</td>\n",
              "      <td>1</td>\n",
              "      <td>1</td>\n",
              "      <td>0</td>\n",
              "      <td>0</td>\n",
              "      <td>1</td>\n",
              "      <td>0</td>\n",
              "    </tr>\n",
              "  </tbody>\n",
              "</table>\n",
              "<p>5 rows × 26 columns</p>\n",
              "</div>\n",
              "    <div class=\"colab-df-buttons\">\n",
              "\n",
              "  <div class=\"colab-df-container\">\n",
              "    <button class=\"colab-df-convert\" onclick=\"convertToInteractive('df-69d5ea03-a99d-46c7-a9e9-e465e1a60181')\"\n",
              "            title=\"Convert this dataframe to an interactive table.\"\n",
              "            style=\"display:none;\">\n",
              "\n",
              "  <svg xmlns=\"http://www.w3.org/2000/svg\" height=\"24px\" viewBox=\"0 -960 960 960\">\n",
              "    <path d=\"M120-120v-720h720v720H120Zm60-500h600v-160H180v160Zm220 220h160v-160H400v160Zm0 220h160v-160H400v160ZM180-400h160v-160H180v160Zm440 0h160v-160H620v160ZM180-180h160v-160H180v160Zm440 0h160v-160H620v160Z\"/>\n",
              "  </svg>\n",
              "    </button>\n",
              "\n",
              "  <style>\n",
              "    .colab-df-container {\n",
              "      display:flex;\n",
              "      gap: 12px;\n",
              "    }\n",
              "\n",
              "    .colab-df-convert {\n",
              "      background-color: #E8F0FE;\n",
              "      border: none;\n",
              "      border-radius: 50%;\n",
              "      cursor: pointer;\n",
              "      display: none;\n",
              "      fill: #1967D2;\n",
              "      height: 32px;\n",
              "      padding: 0 0 0 0;\n",
              "      width: 32px;\n",
              "    }\n",
              "\n",
              "    .colab-df-convert:hover {\n",
              "      background-color: #E2EBFA;\n",
              "      box-shadow: 0px 1px 2px rgba(60, 64, 67, 0.3), 0px 1px 3px 1px rgba(60, 64, 67, 0.15);\n",
              "      fill: #174EA6;\n",
              "    }\n",
              "\n",
              "    .colab-df-buttons div {\n",
              "      margin-bottom: 4px;\n",
              "    }\n",
              "\n",
              "    [theme=dark] .colab-df-convert {\n",
              "      background-color: #3B4455;\n",
              "      fill: #D2E3FC;\n",
              "    }\n",
              "\n",
              "    [theme=dark] .colab-df-convert:hover {\n",
              "      background-color: #434B5C;\n",
              "      box-shadow: 0px 1px 3px 1px rgba(0, 0, 0, 0.15);\n",
              "      filter: drop-shadow(0px 1px 2px rgba(0, 0, 0, 0.3));\n",
              "      fill: #FFFFFF;\n",
              "    }\n",
              "  </style>\n",
              "\n",
              "    <script>\n",
              "      const buttonEl =\n",
              "        document.querySelector('#df-69d5ea03-a99d-46c7-a9e9-e465e1a60181 button.colab-df-convert');\n",
              "      buttonEl.style.display =\n",
              "        google.colab.kernel.accessAllowed ? 'block' : 'none';\n",
              "\n",
              "      async function convertToInteractive(key) {\n",
              "        const element = document.querySelector('#df-69d5ea03-a99d-46c7-a9e9-e465e1a60181');\n",
              "        const dataTable =\n",
              "          await google.colab.kernel.invokeFunction('convertToInteractive',\n",
              "                                                    [key], {});\n",
              "        if (!dataTable) return;\n",
              "\n",
              "        const docLinkHtml = 'Like what you see? Visit the ' +\n",
              "          '<a target=\"_blank\" href=https://colab.research.google.com/notebooks/data_table.ipynb>data table notebook</a>'\n",
              "          + ' to learn more about interactive tables.';\n",
              "        element.innerHTML = '';\n",
              "        dataTable['output_type'] = 'display_data';\n",
              "        await google.colab.output.renderOutput(dataTable, element);\n",
              "        const docLink = document.createElement('div');\n",
              "        docLink.innerHTML = docLinkHtml;\n",
              "        element.appendChild(docLink);\n",
              "      }\n",
              "    </script>\n",
              "  </div>\n",
              "\n",
              "\n",
              "<div id=\"df-33926468-e2b9-440c-a9e8-4714e9717c54\">\n",
              "  <button class=\"colab-df-quickchart\" onclick=\"quickchart('df-33926468-e2b9-440c-a9e8-4714e9717c54')\"\n",
              "            title=\"Suggest charts\"\n",
              "            style=\"display:none;\">\n",
              "\n",
              "<svg xmlns=\"http://www.w3.org/2000/svg\" height=\"24px\"viewBox=\"0 0 24 24\"\n",
              "     width=\"24px\">\n",
              "    <g>\n",
              "        <path d=\"M19 3H5c-1.1 0-2 .9-2 2v14c0 1.1.9 2 2 2h14c1.1 0 2-.9 2-2V5c0-1.1-.9-2-2-2zM9 17H7v-7h2v7zm4 0h-2V7h2v10zm4 0h-2v-4h2v4z\"/>\n",
              "    </g>\n",
              "</svg>\n",
              "  </button>\n",
              "\n",
              "<style>\n",
              "  .colab-df-quickchart {\n",
              "      --bg-color: #E8F0FE;\n",
              "      --fill-color: #1967D2;\n",
              "      --hover-bg-color: #E2EBFA;\n",
              "      --hover-fill-color: #174EA6;\n",
              "      --disabled-fill-color: #AAA;\n",
              "      --disabled-bg-color: #DDD;\n",
              "  }\n",
              "\n",
              "  [theme=dark] .colab-df-quickchart {\n",
              "      --bg-color: #3B4455;\n",
              "      --fill-color: #D2E3FC;\n",
              "      --hover-bg-color: #434B5C;\n",
              "      --hover-fill-color: #FFFFFF;\n",
              "      --disabled-bg-color: #3B4455;\n",
              "      --disabled-fill-color: #666;\n",
              "  }\n",
              "\n",
              "  .colab-df-quickchart {\n",
              "    background-color: var(--bg-color);\n",
              "    border: none;\n",
              "    border-radius: 50%;\n",
              "    cursor: pointer;\n",
              "    display: none;\n",
              "    fill: var(--fill-color);\n",
              "    height: 32px;\n",
              "    padding: 0;\n",
              "    width: 32px;\n",
              "  }\n",
              "\n",
              "  .colab-df-quickchart:hover {\n",
              "    background-color: var(--hover-bg-color);\n",
              "    box-shadow: 0 1px 2px rgba(60, 64, 67, 0.3), 0 1px 3px 1px rgba(60, 64, 67, 0.15);\n",
              "    fill: var(--button-hover-fill-color);\n",
              "  }\n",
              "\n",
              "  .colab-df-quickchart-complete:disabled,\n",
              "  .colab-df-quickchart-complete:disabled:hover {\n",
              "    background-color: var(--disabled-bg-color);\n",
              "    fill: var(--disabled-fill-color);\n",
              "    box-shadow: none;\n",
              "  }\n",
              "\n",
              "  .colab-df-spinner {\n",
              "    border: 2px solid var(--fill-color);\n",
              "    border-color: transparent;\n",
              "    border-bottom-color: var(--fill-color);\n",
              "    animation:\n",
              "      spin 1s steps(1) infinite;\n",
              "  }\n",
              "\n",
              "  @keyframes spin {\n",
              "    0% {\n",
              "      border-color: transparent;\n",
              "      border-bottom-color: var(--fill-color);\n",
              "      border-left-color: var(--fill-color);\n",
              "    }\n",
              "    20% {\n",
              "      border-color: transparent;\n",
              "      border-left-color: var(--fill-color);\n",
              "      border-top-color: var(--fill-color);\n",
              "    }\n",
              "    30% {\n",
              "      border-color: transparent;\n",
              "      border-left-color: var(--fill-color);\n",
              "      border-top-color: var(--fill-color);\n",
              "      border-right-color: var(--fill-color);\n",
              "    }\n",
              "    40% {\n",
              "      border-color: transparent;\n",
              "      border-right-color: var(--fill-color);\n",
              "      border-top-color: var(--fill-color);\n",
              "    }\n",
              "    60% {\n",
              "      border-color: transparent;\n",
              "      border-right-color: var(--fill-color);\n",
              "    }\n",
              "    80% {\n",
              "      border-color: transparent;\n",
              "      border-right-color: var(--fill-color);\n",
              "      border-bottom-color: var(--fill-color);\n",
              "    }\n",
              "    90% {\n",
              "      border-color: transparent;\n",
              "      border-bottom-color: var(--fill-color);\n",
              "    }\n",
              "  }\n",
              "</style>\n",
              "\n",
              "  <script>\n",
              "    async function quickchart(key) {\n",
              "      const quickchartButtonEl =\n",
              "        document.querySelector('#' + key + ' button');\n",
              "      quickchartButtonEl.disabled = true;  // To prevent multiple clicks.\n",
              "      quickchartButtonEl.classList.add('colab-df-spinner');\n",
              "      try {\n",
              "        const charts = await google.colab.kernel.invokeFunction(\n",
              "            'suggestCharts', [key], {});\n",
              "      } catch (error) {\n",
              "        console.error('Error during call to suggestCharts:', error);\n",
              "      }\n",
              "      quickchartButtonEl.classList.remove('colab-df-spinner');\n",
              "      quickchartButtonEl.classList.add('colab-df-quickchart-complete');\n",
              "    }\n",
              "    (() => {\n",
              "      let quickchartButtonEl =\n",
              "        document.querySelector('#df-33926468-e2b9-440c-a9e8-4714e9717c54 button');\n",
              "      quickchartButtonEl.style.display =\n",
              "        google.colab.kernel.accessAllowed ? 'block' : 'none';\n",
              "    })();\n",
              "  </script>\n",
              "</div>\n",
              "\n",
              "    </div>\n",
              "  </div>\n"
            ],
            "application/vnd.google.colaboratory.intrinsic+json": {
              "type": "dataframe",
              "variable_name": "data"
            }
          },
          "metadata": {},
          "execution_count": 5
        }
      ],
      "source": [
        "# To print the first five rows of the data\n",
        "data.head()"
      ]
    },
    {
      "cell_type": "code",
      "source": [
        "# To show general information as a summary of the dataset\n",
        "data.info()"
      ],
      "metadata": {
        "colab": {
          "base_uri": "https://localhost:8080/"
        },
        "id": "uReSo80yXDc0",
        "outputId": "4a67fc52-ffac-4c88-d2b6-e3dd8e0c4b5b"
      },
      "execution_count": 5,
      "outputs": [
        {
          "output_type": "stream",
          "name": "stdout",
          "text": [
            "<class 'pandas.core.frame.DataFrame'>\n",
            "RangeIndex: 12684 entries, 0 to 12683\n",
            "Data columns (total 26 columns):\n",
            " #   Column                Non-Null Count  Dtype \n",
            "---  ------                --------------  ----- \n",
            " 0   destination           12684 non-null  object\n",
            " 1   passanger             12684 non-null  object\n",
            " 2   weather               12684 non-null  object\n",
            " 3   temperature           12684 non-null  int64 \n",
            " 4   time                  12684 non-null  object\n",
            " 5   coupon                12684 non-null  object\n",
            " 6   expiration            12684 non-null  object\n",
            " 7   gender                12684 non-null  object\n",
            " 8   age                   12684 non-null  object\n",
            " 9   maritalStatus         12684 non-null  object\n",
            " 10  has_children          12684 non-null  int64 \n",
            " 11  education             12684 non-null  object\n",
            " 12  occupation            12684 non-null  object\n",
            " 13  income                12684 non-null  object\n",
            " 14  car                   108 non-null    object\n",
            " 15  Bar                   12577 non-null  object\n",
            " 16  CoffeeHouse           12467 non-null  object\n",
            " 17  CarryAway             12533 non-null  object\n",
            " 18  RestaurantLessThan20  12554 non-null  object\n",
            " 19  Restaurant20To50      12495 non-null  object\n",
            " 20  toCoupon_GEQ5min      12684 non-null  int64 \n",
            " 21  toCoupon_GEQ15min     12684 non-null  int64 \n",
            " 22  toCoupon_GEQ25min     12684 non-null  int64 \n",
            " 23  direction_same        12684 non-null  int64 \n",
            " 24  direction_opp         12684 non-null  int64 \n",
            " 25  Y                     12684 non-null  int64 \n",
            "dtypes: int64(8), object(18)\n",
            "memory usage: 2.5+ MB\n"
          ]
        }
      ]
    },
    {
      "cell_type": "markdown",
      "source": [
        "**@Finding**\n",
        "\n",
        "From this general information, we can see that the dataset has 12684 rows and 26 columns contain categorical (object) data and numeric values."
      ],
      "metadata": {
        "id": "tGYjSwMFNhdW"
      }
    },
    {
      "cell_type": "code",
      "source": [],
      "metadata": {
        "id": "DCdPSYmxT10C"
      },
      "execution_count": null,
      "outputs": []
    },
    {
      "cell_type": "markdown",
      "metadata": {
        "id": "GcDs78ZH_qRH"
      },
      "source": [
        "2. Investigate the dataset for missing or problematic data."
      ]
    },
    {
      "cell_type": "code",
      "execution_count": 6,
      "metadata": {
        "id": "6CwL6oWj_qRH",
        "colab": {
          "base_uri": "https://localhost:8080/"
        },
        "outputId": "309a88d0-209f-4a01-8e79-92647a9b385c"
      },
      "outputs": [
        {
          "output_type": "stream",
          "name": "stdout",
          "text": [
            "Number of missing values in each column:\n",
            "-------------------------------------\n",
            "destination                 0\n",
            "passanger                   0\n",
            "weather                     0\n",
            "temperature                 0\n",
            "time                        0\n",
            "coupon                      0\n",
            "expiration                  0\n",
            "gender                      0\n",
            "age                         0\n",
            "maritalStatus               0\n",
            "has_children                0\n",
            "education                   0\n",
            "occupation                  0\n",
            "income                      0\n",
            "car                     12576\n",
            "Bar                       107\n",
            "CoffeeHouse               217\n",
            "CarryAway                 151\n",
            "RestaurantLessThan20      130\n",
            "Restaurant20To50          189\n",
            "toCoupon_GEQ5min            0\n",
            "toCoupon_GEQ15min           0\n",
            "toCoupon_GEQ25min           0\n",
            "direction_same              0\n",
            "direction_opp               0\n",
            "Y                           0\n",
            "dtype: int64\n",
            "\n",
            "**************************\n",
            "Columns with missing values:\n",
            "----------------------------\n",
            "car                     12576\n",
            "Bar                       107\n",
            "CoffeeHouse               217\n",
            "CarryAway                 151\n",
            "RestaurantLessThan20      130\n",
            "Restaurant20To50          189\n",
            "dtype: int64\n"
          ]
        }
      ],
      "source": [
        "# Checking for missing data in the dataset\n",
        "# The code data.isnull() checks for missing (null/NaN) values, returning True where values are missing (null) and False where they are not.\n",
        "# sum() this sums up the True values for each column\n",
        "missing_values = data.isnull().sum()\n",
        "\n",
        "# Displaying the number of missing values for all columns\n",
        "print(\"Number of missing values in each column:\")\n",
        "print('-------------------------------------')\n",
        "print(missing_values)\n",
        "print('\\n**************************')\n",
        "\n",
        "# Filter and display only columns with missing values\n",
        "columns_with_missing = missing_values[missing_values > 0]\n",
        "print(\"Columns with missing values:\")\n",
        "print('----------------------------')\n",
        "print(columns_with_missing)"
      ]
    },
    {
      "cell_type": "code",
      "source": [
        "# To retrieve all the unique values from some of columns\n",
        "temperature_col= data['temperature'].unique()\n",
        "weather_col= data['weather'].unique()\n",
        "income_col= data['income'].unique()\n",
        "coupon_col = data['coupon'].unique()\n",
        "passanger_col = data['passanger'].unique()\n",
        "education_col = data['education'].unique()\n",
        "Bar_col = data['Bar'].unique()\n",
        "car_col = data['car'].unique()\n",
        "CoffeeHouse_col =data['CoffeeHouse'].unique()\n",
        "age_col =data['age'].unique()\n",
        "\n",
        "print('temperature column contains:\\n', temperature_col)\n",
        "print('weather column contains:\\n', weather_col)\n",
        "print('income column contains:\\n', income_col)\n",
        "print('coupon column contains:\\n', coupon_col)\n",
        "print('passanger column contains:\\n', passanger_col)\n",
        "print('education column contains:\\n', education_col)\n",
        "print('Bar column contains:\\n', Bar_col)\n",
        "print('car column contains:\\n', car_col)\n",
        "print('CoffeeHousecolumn contains:\\n', CoffeeHouse_col)\n",
        "print('Age contains:\\n', age_col)"
      ],
      "metadata": {
        "colab": {
          "base_uri": "https://localhost:8080/"
        },
        "id": "cXKzYxEoTFvU",
        "outputId": "4810ab4e-0515-4002-ccf5-18bcc65fe94e"
      },
      "execution_count": 100,
      "outputs": [
        {
          "output_type": "stream",
          "name": "stdout",
          "text": [
            "temperature column contains:\n",
            " [55 80 30]\n",
            "weather column contains:\n",
            " ['Sunny' 'Rainy' 'Snowy']\n",
            "income column contains:\n",
            " ['$37500 - $49999' '$62500 - $74999' '$12500 - $24999' '$75000 - $87499'\n",
            " '$50000 - $62499' '$25000 - $37499' '$100000 or More' '$87500 - $99999'\n",
            " 'Less than $12500']\n",
            "coupon column contains:\n",
            " ['Restaurant(<20)' 'Coffee House' 'Carry out & Take away' 'Bar'\n",
            " 'Restaurant(20-50)']\n",
            "passanger column contains:\n",
            " ['Alone' 'Friend(s)' 'Kid(s)' 'Partner']\n",
            "education column contains:\n",
            " ['Some college - no degree' 'Bachelors degree' 'Associates degree'\n",
            " 'High School Graduate' 'Graduate degree (Masters or Doctorate)'\n",
            " 'Some High School']\n",
            "Bar column contains:\n",
            " [ 0.  1.  2.  8. nan  5.]\n",
            "car column contains:\n",
            " [nan 'Scooter and motorcycle' 'crossover' 'Mazda5' 'do not drive'\n",
            " 'Car that is too old to install Onstar :D']\n",
            "CoffeeHousecolumn contains:\n",
            " ['never' 'less1' '4~8' '1~3' 'gt8' nan]\n",
            "Age contains:\n",
            " ['21' '46' '26' '31' '41' '50plus' '36' 'below21']\n"
          ]
        }
      ]
    },
    {
      "cell_type": "markdown",
      "metadata": {
        "id": "bSdVSpYB_qRH"
      },
      "source": [
        "3. Decide what to do about your missing data -- drop, replace, other..."
      ]
    },
    {
      "cell_type": "code",
      "source": [
        "# Analyze the percentage of missing data in each column\n",
        "#******************************************************\n",
        "# Calculate the percentage of missing data\n",
        "# len(data) gives the total number of rows in data\n",
        "missing_percentage = (data.isnull().sum() / len(data)) * 100\n",
        "\n",
        "# Display the results\n",
        "print(\"Analyzing the percentage of missing data in each column:\")\n",
        "print('-------------------------------------')\n",
        "print(missing_percentage)"
      ],
      "metadata": {
        "colab": {
          "base_uri": "https://localhost:8080/"
        },
        "id": "Cxt3XwbzWwXg",
        "outputId": "e9fb26d5-0436-4b98-8ba2-adcf6f5a39d2"
      },
      "execution_count": 35,
      "outputs": [
        {
          "output_type": "stream",
          "name": "stdout",
          "text": [
            "Analyzing the percentage of missing data in each column:\n",
            "-------------------------------------\n",
            "destination              0.000000\n",
            "passanger                0.000000\n",
            "weather                  0.000000\n",
            "temperature              0.000000\n",
            "time                     0.000000\n",
            "coupon                   0.000000\n",
            "expiration               0.000000\n",
            "gender                   0.000000\n",
            "age                      0.000000\n",
            "maritalStatus            0.000000\n",
            "has_children             0.000000\n",
            "education                0.000000\n",
            "occupation               0.000000\n",
            "income                   0.000000\n",
            "car                     99.148534\n",
            "Bar                      0.843582\n",
            "CoffeeHouse              1.710817\n",
            "CarryAway                1.190476\n",
            "RestaurantLessThan20     1.024913\n",
            "Restaurant20To50         1.490066\n",
            "toCoupon_GEQ5min         0.000000\n",
            "toCoupon_GEQ15min        0.000000\n",
            "toCoupon_GEQ25min        0.000000\n",
            "direction_same           0.000000\n",
            "direction_opp            0.000000\n",
            "Y                        0.000000\n",
            "dtype: float64\n"
          ]
        }
      ]
    },
    {
      "cell_type": "markdown",
      "source": [
        "**@Finding**\n",
        "\n",
        "The above results show the percentage of missing data in each column, The following 6 columns have missing data: car, Bar, CoffeeHouse, CarryAway, RestaurantLessThan20 and Restaurant20To50, where the column 'car' has the most missing data 99.1%"
      ],
      "metadata": {
        "id": "lcOrToU6YKCi"
      }
    },
    {
      "cell_type": "code",
      "execution_count": 44,
      "metadata": {
        "id": "tyvoAC5F_qRI",
        "colab": {
          "base_uri": "https://localhost:8080/"
        },
        "outputId": "07744261-0f40-46a0-e365-b3fb2318b223"
      },
      "outputs": [
        {
          "output_type": "stream",
          "name": "stdout",
          "text": [
            "-------------------------------------\n",
            "The object columns after filtering:\n",
            "Index(['destination', 'passanger', 'weather', 'time', 'coupon', 'expiration',\n",
            "       'gender', 'age', 'maritalStatus', 'education', 'occupation', 'income',\n",
            "       'Bar', 'CoffeeHouse', 'CarryAway', 'RestaurantLessThan20',\n",
            "       'Restaurant20To50'],\n",
            "      dtype='object')\n",
            "-------------------------------------\n",
            "The numeric columns after filtering:\n",
            "Index(['temperature', 'has_children', 'toCoupon_GEQ5min', 'toCoupon_GEQ15min',\n",
            "       'toCoupon_GEQ25min', 'direction_same', 'direction_opp', 'Y'],\n",
            "      dtype='object')\n",
            "-------------------------------------\n",
            "The all columns after filtering:\n",
            "Index(['destination', 'passanger', 'weather', 'temperature', 'time', 'coupon',\n",
            "       'expiration', 'gender', 'age', 'maritalStatus', 'has_children',\n",
            "       'education', 'occupation', 'income', 'Bar', 'CoffeeHouse', 'CarryAway',\n",
            "       'RestaurantLessThan20', 'Restaurant20To50', 'toCoupon_GEQ5min',\n",
            "       'toCoupon_GEQ15min', 'toCoupon_GEQ25min', 'direction_same',\n",
            "       'direction_opp', 'Y'],\n",
            "      dtype='object')\n"
          ]
        }
      ],
      "source": [
        "# regarding the above results of missing_percentage\n",
        "# Dropping the column with high percentage of missing data (>=10%):\n",
        "columns_drop = missing_percentage[missing_percentage >= 10].index\n",
        "data_filtered = data.drop(columns=columns_drop)\n",
        "\n",
        "# for small percentage (<10%): replacing with unknown\n",
        "# Replace missing values in numeric columns with the mean\n",
        "numeric_c= data_filtered.select_dtypes(include='number').columns\n",
        "data_filtered[numeric_c] = data_filtered[numeric_c].fillna(data_filtered[numeric_c].mean())\n",
        "\n",
        "# Replace missing object columns with \"Unknown\"\n",
        "object_c = data_filtered.select_dtypes(include='object').columns\n",
        "data_filtered[object_c] = data_filtered[object_c].fillna('Unknown')\n",
        "print('-------------------------------------')\n",
        "print(\"The object columns after filtering:\")\n",
        "print(object_c)\n",
        "print('-------------------------------------')\n",
        "print(\"The numeric columns after filtering:\")\n",
        "print(numeric_c)\n",
        "print('-------------------------------------')\n",
        "print(\"The all columns after filtering:\")\n",
        "print(data_filtered.columns)"
      ]
    },
    {
      "cell_type": "markdown",
      "source": [
        "**@Finding**\n",
        "\n",
        "The column 'car' removed from data, as can be seen in the list of columns of the filtered dataset data_filtered."
      ],
      "metadata": {
        "id": "YVmoA10Ej5zb"
      }
    },
    {
      "cell_type": "markdown",
      "metadata": {
        "id": "YE6oJbXd_qRI"
      },
      "source": [
        "4. What proportion of the total observations chose to accept the coupon?\n",
        "\n"
      ]
    },
    {
      "cell_type": "code",
      "execution_count": 45,
      "metadata": {
        "id": "86GGqBTv_qRI",
        "colab": {
          "base_uri": "https://localhost:8080/"
        },
        "outputId": "63e90d0b-a4e9-46a7-d5c4-ec7b91820c7d"
      },
      "outputs": [
        {
          "output_type": "stream",
          "name": "stdout",
          "text": [
            "Proportion of total observations that accepted the coupon: 56.84 %\n"
          ]
        }
      ],
      "source": [
        "# The total number of observations\n",
        "total_observations = len(data)\n",
        "# Number of observations accepted coupon (Y = 1)\n",
        "accepted_coupon = data[data[\"Y\"]==1].shape[0]\n",
        "# Calculate the proportion of the total observations chose to accept the coupon\n",
        "proportional_ac_coupons= (accepted_coupon/total_observations)\n",
        "proportion_ac_percentage = round(proportional_ac_coupons * 100, 2)\n",
        "\n",
        "print(\"Proportion of total observations that accepted the coupon:\",proportion_ac_percentage,\"%\")"
      ]
    },
    {
      "cell_type": "markdown",
      "metadata": {
        "id": "vflz0DoE_qRI"
      },
      "source": [
        "5. Use a bar plot to visualize the `coupon` column."
      ]
    },
    {
      "cell_type": "code",
      "execution_count": 46,
      "metadata": {
        "id": "dHFh3E45_qRI",
        "colab": {
          "base_uri": "https://localhost:8080/",
          "height": 583
        },
        "outputId": "19982a40-9fca-44c3-87a6-9ad476315a56"
      },
      "outputs": [
        {
          "output_type": "display_data",
          "data": {
            "text/plain": [
              "<Figure size 640x480 with 1 Axes>"
            ],
            "image/png": "[encoded data removed]"
          },
          "metadata": {}
        }
      ],
      "source": [
        "# counting the column 'coupon'\n",
        "coupon_counts = data['coupon'].value_counts()\n",
        "# Creating a bar plot using Seaborn, where\n",
        "# coupon_counts.index represents the labels of the categories and\n",
        "# coupon_counts.values contains the numerical data, which show the heights of\n",
        "# the bars.\n",
        "sns.barplot(x=coupon_counts.index, y=coupon_counts.values, color='lightgreen', edgecolor='black')\n",
        "plt.title(\"Frequency of Coupon Types\", fontsize=14)\n",
        "plt.xlabel(\"Coupon Type\", fontsize=12)\n",
        "plt.ylabel(\"Count\", fontsize=12)\n",
        "plt.grid(True)\n",
        "plt.xticks(rotation=45)\n",
        "plt.show()\n"
      ]
    },
    {
      "cell_type": "markdown",
      "metadata": {
        "id": "Qw4lCyx2_qRI"
      },
      "source": [
        "6. Use a histogram to visualize the temperature column."
      ]
    },
    {
      "cell_type": "code",
      "execution_count": 51,
      "metadata": {
        "id": "Yg9Anv71_qRI",
        "colab": {
          "base_uri": "https://localhost:8080/",
          "height": 494
        },
        "outputId": "3e3b305f-e4c4-4c7c-f681-dd08c202f716"
      },
      "outputs": [
        {
          "output_type": "execute_result",
          "data": {
            "text/plain": [
              "Text(0, 0.5, 'Frequency')"
            ]
          },
          "metadata": {},
          "execution_count": 51
        },
        {
          "output_type": "display_data",
          "data": {
            "text/plain": [
              "<Figure size 640x480 with 1 Axes>"
            ],
            "image/png": "[encoded data removed]"
          },
          "metadata": {}
        }
      ],
      "source": [
        "# Creating a histograam to visualize the distribution of numerical data by using\n",
        "# Seaborn, where x-axis shows the three different categories of the temperature\n",
        "# \"kde=True\": to estimate the probability density function of the data.\n",
        "sns.histplot(data, x=\"temperature\", kde=True, color='green')\n",
        "plt.title('Distribution of Temperature', fontsize=14)\n",
        "plt.xlabel('Temperature', fontsize=12)\n",
        "plt.ylabel('Frequency', fontsize=12)"
      ]
    },
    {
      "cell_type": "markdown",
      "metadata": {
        "id": "FupfgeJk_qRJ"
      },
      "source": [
        "**Investigating the Bar Coupons**\n",
        "\n",
        "Now, we will lead you through an exploration of just the bar related coupons.  \n",
        "\n",
        "1. Create a new `DataFrame` that contains just the bar coupons.\n"
      ]
    },
    {
      "cell_type": "code",
      "execution_count": 56,
      "metadata": {
        "id": "tMBlWuGq_qRJ",
        "colab": {
          "base_uri": "https://localhost:8080/",
          "height": 325
        },
        "outputId": "42966285-4e4d-4ff4-ba25-39cd4868f790"
      },
      "outputs": [
        {
          "output_type": "execute_result",
          "data": {
            "text/plain": [
              "        destination  passanger weather  temperature  time coupon expiration  \\\n",
              "9   No Urgent Place     Kid(s)   Sunny           80  10AM    Bar         1d   \n",
              "13             Home      Alone   Sunny           55   6PM    Bar         1d   \n",
              "17             Work      Alone   Sunny           55   7AM    Bar         1d   \n",
              "24  No Urgent Place  Friend(s)   Sunny           80  10AM    Bar         1d   \n",
              "35             Home      Alone   Sunny           55   6PM    Bar         1d   \n",
              "\n",
              "    gender age      maritalStatus  ...  CoffeeHouse CarryAway  \\\n",
              "9   Female  21  Unmarried partner  ...        never       NaN   \n",
              "13  Female  21  Unmarried partner  ...        never       NaN   \n",
              "17  Female  21  Unmarried partner  ...        never       NaN   \n",
              "24    Male  21             Single  ...        less1       4~8   \n",
              "35    Male  21             Single  ...        less1       4~8   \n",
              "\n",
              "   RestaurantLessThan20 Restaurant20To50 toCoupon_GEQ5min toCoupon_GEQ15min  \\\n",
              "9                   4~8              1~3                1                 1   \n",
              "13                  4~8              1~3                1                 0   \n",
              "17                  4~8              1~3                1                 1   \n",
              "24                  4~8            less1                1                 0   \n",
              "35                  4~8            less1                1                 0   \n",
              "\n",
              "   toCoupon_GEQ25min direction_same direction_opp  Y  \n",
              "9                  0              0             1  0  \n",
              "13                 0              1             0  1  \n",
              "17                 1              0             1  0  \n",
              "24                 0              0             1  1  \n",
              "35                 0              1             0  1  \n",
              "\n",
              "[5 rows x 26 columns]"
            ],
            "text/html": [
              "\n",
              "  <div id=\"df-dcf0d299-91b8-4ff1-9484-f2709f679fe0\" class=\"colab-df-container\">\n",
              "    <div>\n",
              "<style scoped>\n",
              "    .dataframe tbody tr th:only-of-type {\n",
              "        vertical-align: middle;\n",
              "    }\n",
              "\n",
              "    .dataframe tbody tr th {\n",
              "        vertical-align: top;\n",
              "    }\n",
              "\n",
              "    .dataframe thead th {\n",
              "        text-align: right;\n",
              "    }\n",
              "</style>\n",
              "<table border=\"1\" class=\"dataframe\">\n",
              "  <thead>\n",
              "    <tr style=\"text-align: right;\">\n",
              "      <th></th>\n",
              "      <th>destination</th>\n",
              "      <th>passanger</th>\n",
              "      <th>weather</th>\n",
              "      <th>temperature</th>\n",
              "      <th>time</th>\n",
              "      <th>coupon</th>\n",
              "      <th>expiration</th>\n",
              "      <th>gender</th>\n",
              "      <th>age</th>\n",
              "      <th>maritalStatus</th>\n",
              "      <th>...</th>\n",
              "      <th>CoffeeHouse</th>\n",
              "      <th>CarryAway</th>\n",
              "      <th>RestaurantLessThan20</th>\n",
              "      <th>Restaurant20To50</th>\n",
              "      <th>toCoupon_GEQ5min</th>\n",
              "      <th>toCoupon_GEQ15min</th>\n",
              "      <th>toCoupon_GEQ25min</th>\n",
              "      <th>direction_same</th>\n",
              "      <th>direction_opp</th>\n",
              "      <th>Y</th>\n",
              "    </tr>\n",
              "  </thead>\n",
              "  <tbody>\n",
              "    <tr>\n",
              "      <th>9</th>\n",
              "      <td>No Urgent Place</td>\n",
              "      <td>Kid(s)</td>\n",
              "      <td>Sunny</td>\n",
              "      <td>80</td>\n",
              "      <td>10AM</td>\n",
              "      <td>Bar</td>\n",
              "      <td>1d</td>\n",
              "      <td>Female</td>\n",
              "      <td>21</td>\n",
              "      <td>Unmarried partner</td>\n",
              "      <td>...</td>\n",
              "      <td>never</td>\n",
              "      <td>NaN</td>\n",
              "      <td>4~8</td>\n",
              "      <td>1~3</td>\n",
              "      <td>1</td>\n",
              "      <td>1</td>\n",
              "      <td>0</td>\n",
              "      <td>0</td>\n",
              "      <td>1</td>\n",
              "      <td>0</td>\n",
              "    </tr>\n",
              "    <tr>\n",
              "      <th>13</th>\n",
              "      <td>Home</td>\n",
              "      <td>Alone</td>\n",
              "      <td>Sunny</td>\n",
              "      <td>55</td>\n",
              "      <td>6PM</td>\n",
              "      <td>Bar</td>\n",
              "      <td>1d</td>\n",
              "      <td>Female</td>\n",
              "      <td>21</td>\n",
              "      <td>Unmarried partner</td>\n",
              "      <td>...</td>\n",
              "      <td>never</td>\n",
              "      <td>NaN</td>\n",
              "      <td>4~8</td>\n",
              "      <td>1~3</td>\n",
              "      <td>1</td>\n",
              "      <td>0</td>\n",
              "      <td>0</td>\n",
              "      <td>1</td>\n",
              "      <td>0</td>\n",
              "      <td>1</td>\n",
              "    </tr>\n",
              "    <tr>\n",
              "      <th>17</th>\n",
              "      <td>Work</td>\n",
              "      <td>Alone</td>\n",
              "      <td>Sunny</td>\n",
              "      <td>55</td>\n",
              "      <td>7AM</td>\n",
              "      <td>Bar</td>\n",
              "      <td>1d</td>\n",
              "      <td>Female</td>\n",
              "      <td>21</td>\n",
              "      <td>Unmarried partner</td>\n",
              "      <td>...</td>\n",
              "      <td>never</td>\n",
              "      <td>NaN</td>\n",
              "      <td>4~8</td>\n",
              "      <td>1~3</td>\n",
              "      <td>1</td>\n",
              "      <td>1</td>\n",
              "      <td>1</td>\n",
              "      <td>0</td>\n",
              "      <td>1</td>\n",
              "      <td>0</td>\n",
              "    </tr>\n",
              "    <tr>\n",
              "      <th>24</th>\n",
              "      <td>No Urgent Place</td>\n",
              "      <td>Friend(s)</td>\n",
              "      <td>Sunny</td>\n",
              "      <td>80</td>\n",
              "      <td>10AM</td>\n",
              "      <td>Bar</td>\n",
              "      <td>1d</td>\n",
              "      <td>Male</td>\n",
              "      <td>21</td>\n",
              "      <td>Single</td>\n",
              "      <td>...</td>\n",
              "      <td>less1</td>\n",
              "      <td>4~8</td>\n",
              "      <td>4~8</td>\n",
              "      <td>less1</td>\n",
              "      <td>1</td>\n",
              "      <td>0</td>\n",
              "      <td>0</td>\n",
              "      <td>0</td>\n",
              "      <td>1</td>\n",
              "      <td>1</td>\n",
              "    </tr>\n",
              "    <tr>\n",
              "      <th>35</th>\n",
              "      <td>Home</td>\n",
              "      <td>Alone</td>\n",
              "      <td>Sunny</td>\n",
              "      <td>55</td>\n",
              "      <td>6PM</td>\n",
              "      <td>Bar</td>\n",
              "      <td>1d</td>\n",
              "      <td>Male</td>\n",
              "      <td>21</td>\n",
              "      <td>Single</td>\n",
              "      <td>...</td>\n",
              "      <td>less1</td>\n",
              "      <td>4~8</td>\n",
              "      <td>4~8</td>\n",
              "      <td>less1</td>\n",
              "      <td>1</td>\n",
              "      <td>0</td>\n",
              "      <td>0</td>\n",
              "      <td>1</td>\n",
              "      <td>0</td>\n",
              "      <td>1</td>\n",
              "    </tr>\n",
              "  </tbody>\n",
              "</table>\n",
              "<p>5 rows × 26 columns</p>\n",
              "</div>\n",
              "    <div class=\"colab-df-buttons\">\n",
              "\n",
              "  <div class=\"colab-df-container\">\n",
              "    <button class=\"colab-df-convert\" onclick=\"convertToInteractive('df-dcf0d299-91b8-4ff1-9484-f2709f679fe0')\"\n",
              "            title=\"Convert this dataframe to an interactive table.\"\n",
              "            style=\"display:none;\">\n",
              "\n",
              "  <svg xmlns=\"http://www.w3.org/2000/svg\" height=\"24px\" viewBox=\"0 -960 960 960\">\n",
              "    <path d=\"M120-120v-720h720v720H120Zm60-500h600v-160H180v160Zm220 220h160v-160H400v160Zm0 220h160v-160H400v160ZM180-400h160v-160H180v160Zm440 0h160v-160H620v160ZM180-180h160v-160H180v160Zm440 0h160v-160H620v160Z\"/>\n",
              "  </svg>\n",
              "    </button>\n",
              "\n",
              "  <style>\n",
              "    .colab-df-container {\n",
              "      display:flex;\n",
              "      gap: 12px;\n",
              "    }\n",
              "\n",
              "    .colab-df-convert {\n",
              "      background-color: #E8F0FE;\n",
              "      border: none;\n",
              "      border-radius: 50%;\n",
              "      cursor: pointer;\n",
              "      display: none;\n",
              "      fill: #1967D2;\n",
              "      height: 32px;\n",
              "      padding: 0 0 0 0;\n",
              "      width: 32px;\n",
              "    }\n",
              "\n",
              "    .colab-df-convert:hover {\n",
              "      background-color: #E2EBFA;\n",
              "      box-shadow: 0px 1px 2px rgba(60, 64, 67, 0.3), 0px 1px 3px 1px rgba(60, 64, 67, 0.15);\n",
              "      fill: #174EA6;\n",
              "    }\n",
              "\n",
              "    .colab-df-buttons div {\n",
              "      margin-bottom: 4px;\n",
              "    }\n",
              "\n",
              "    [theme=dark] .colab-df-convert {\n",
              "      background-color: #3B4455;\n",
              "      fill: #D2E3FC;\n",
              "    }\n",
              "\n",
              "    [theme=dark] .colab-df-convert:hover {\n",
              "      background-color: #434B5C;\n",
              "      box-shadow: 0px 1px 3px 1px rgba(0, 0, 0, 0.15);\n",
              "      filter: drop-shadow(0px 1px 2px rgba(0, 0, 0, 0.3));\n",
              "      fill: #FFFFFF;\n",
              "    }\n",
              "  </style>\n",
              "\n",
              "    <script>\n",
              "      const buttonEl =\n",
              "        document.querySelector('#df-dcf0d299-91b8-4ff1-9484-f2709f679fe0 button.colab-df-convert');\n",
              "      buttonEl.style.display =\n",
              "        google.colab.kernel.accessAllowed ? 'block' : 'none';\n",
              "\n",
              "      async function convertToInteractive(key) {\n",
              "        const element = document.querySelector('#df-dcf0d299-91b8-4ff1-9484-f2709f679fe0');\n",
              "        const dataTable =\n",
              "          await google.colab.kernel.invokeFunction('convertToInteractive',\n",
              "                                                    [key], {});\n",
              "        if (!dataTable) return;\n",
              "\n",
              "        const docLinkHtml = 'Like what you see? Visit the ' +\n",
              "          '<a target=\"_blank\" href=https://colab.research.google.com/notebooks/data_table.ipynb>data table notebook</a>'\n",
              "          + ' to learn more about interactive tables.';\n",
              "        element.innerHTML = '';\n",
              "        dataTable['output_type'] = 'display_data';\n",
              "        await google.colab.output.renderOutput(dataTable, element);\n",
              "        const docLink = document.createElement('div');\n",
              "        docLink.innerHTML = docLinkHtml;\n",
              "        element.appendChild(docLink);\n",
              "      }\n",
              "    </script>\n",
              "  </div>\n",
              "\n",
              "\n",
              "<div id=\"df-9c8aee8f-6b06-4453-8927-7e6d04af31fd\">\n",
              "  <button class=\"colab-df-quickchart\" onclick=\"quickchart('df-9c8aee8f-6b06-4453-8927-7e6d04af31fd')\"\n",
              "            title=\"Suggest charts\"\n",
              "            style=\"display:none;\">\n",
              "\n",
              "<svg xmlns=\"http://www.w3.org/2000/svg\" height=\"24px\"viewBox=\"0 0 24 24\"\n",
              "     width=\"24px\">\n",
              "    <g>\n",
              "        <path d=\"M19 3H5c-1.1 0-2 .9-2 2v14c0 1.1.9 2 2 2h14c1.1 0 2-.9 2-2V5c0-1.1-.9-2-2-2zM9 17H7v-7h2v7zm4 0h-2V7h2v10zm4 0h-2v-4h2v4z\"/>\n",
              "    </g>\n",
              "</svg>\n",
              "  </button>\n",
              "\n",
              "<style>\n",
              "  .colab-df-quickchart {\n",
              "      --bg-color: #E8F0FE;\n",
              "      --fill-color: #1967D2;\n",
              "      --hover-bg-color: #E2EBFA;\n",
              "      --hover-fill-color: #174EA6;\n",
              "      --disabled-fill-color: #AAA;\n",
              "      --disabled-bg-color: #DDD;\n",
              "  }\n",
              "\n",
              "  [theme=dark] .colab-df-quickchart {\n",
              "      --bg-color: #3B4455;\n",
              "      --fill-color: #D2E3FC;\n",
              "      --hover-bg-color: #434B5C;\n",
              "      --hover-fill-color: #FFFFFF;\n",
              "      --disabled-bg-color: #3B4455;\n",
              "      --disabled-fill-color: #666;\n",
              "  }\n",
              "\n",
              "  .colab-df-quickchart {\n",
              "    background-color: var(--bg-color);\n",
              "    border: none;\n",
              "    border-radius: 50%;\n",
              "    cursor: pointer;\n",
              "    display: none;\n",
              "    fill: var(--fill-color);\n",
              "    height: 32px;\n",
              "    padding: 0;\n",
              "    width: 32px;\n",
              "  }\n",
              "\n",
              "  .colab-df-quickchart:hover {\n",
              "    background-color: var(--hover-bg-color);\n",
              "    box-shadow: 0 1px 2px rgba(60, 64, 67, 0.3), 0 1px 3px 1px rgba(60, 64, 67, 0.15);\n",
              "    fill: var(--button-hover-fill-color);\n",
              "  }\n",
              "\n",
              "  .colab-df-quickchart-complete:disabled,\n",
              "  .colab-df-quickchart-complete:disabled:hover {\n",
              "    background-color: var(--disabled-bg-color);\n",
              "    fill: var(--disabled-fill-color);\n",
              "    box-shadow: none;\n",
              "  }\n",
              "\n",
              "  .colab-df-spinner {\n",
              "    border: 2px solid var(--fill-color);\n",
              "    border-color: transparent;\n",
              "    border-bottom-color: var(--fill-color);\n",
              "    animation:\n",
              "      spin 1s steps(1) infinite;\n",
              "  }\n",
              "\n",
              "  @keyframes spin {\n",
              "    0% {\n",
              "      border-color: transparent;\n",
              "      border-bottom-color: var(--fill-color);\n",
              "      border-left-color: var(--fill-color);\n",
              "    }\n",
              "    20% {\n",
              "      border-color: transparent;\n",
              "      border-left-color: var(--fill-color);\n",
              "      border-top-color: var(--fill-color);\n",
              "    }\n",
              "    30% {\n",
              "      border-color: transparent;\n",
              "      border-left-color: var(--fill-color);\n",
              "      border-top-color: var(--fill-color);\n",
              "      border-right-color: var(--fill-color);\n",
              "    }\n",
              "    40% {\n",
              "      border-color: transparent;\n",
              "      border-right-color: var(--fill-color);\n",
              "      border-top-color: var(--fill-color);\n",
              "    }\n",
              "    60% {\n",
              "      border-color: transparent;\n",
              "      border-right-color: var(--fill-color);\n",
              "    }\n",
              "    80% {\n",
              "      border-color: transparent;\n",
              "      border-right-color: var(--fill-color);\n",
              "      border-bottom-color: var(--fill-color);\n",
              "    }\n",
              "    90% {\n",
              "      border-color: transparent;\n",
              "      border-bottom-color: var(--fill-color);\n",
              "    }\n",
              "  }\n",
              "</style>\n",
              "\n",
              "  <script>\n",
              "    async function quickchart(key) {\n",
              "      const quickchartButtonEl =\n",
              "        document.querySelector('#' + key + ' button');\n",
              "      quickchartButtonEl.disabled = true;  // To prevent multiple clicks.\n",
              "      quickchartButtonEl.classList.add('colab-df-spinner');\n",
              "      try {\n",
              "        const charts = await google.colab.kernel.invokeFunction(\n",
              "            'suggestCharts', [key], {});\n",
              "      } catch (error) {\n",
              "        console.error('Error during call to suggestCharts:', error);\n",
              "      }\n",
              "      quickchartButtonEl.classList.remove('colab-df-spinner');\n",
              "      quickchartButtonEl.classList.add('colab-df-quickchart-complete');\n",
              "    }\n",
              "    (() => {\n",
              "      let quickchartButtonEl =\n",
              "        document.querySelector('#df-9c8aee8f-6b06-4453-8927-7e6d04af31fd button');\n",
              "      quickchartButtonEl.style.display =\n",
              "        google.colab.kernel.accessAllowed ? 'block' : 'none';\n",
              "    })();\n",
              "  </script>\n",
              "</div>\n",
              "\n",
              "    </div>\n",
              "  </div>\n"
            ],
            "application/vnd.google.colaboratory.intrinsic+json": {
              "type": "dataframe",
              "variable_name": "data_coupon_bar"
            }
          },
          "metadata": {},
          "execution_count": 56
        }
      ],
      "source": [
        "# loading the dataset again\n",
        "data = pd.read_csv('coupons.csv')\n",
        "#creating the data \"data_coupon_bar\" by selecting rows of \"data\" where the\n",
        "# \"coupon\" column has the value 'Bar'\n",
        "data_coupon_bar = pd.DataFrame(data[data[\"coupon\"]=='Bar'])\n",
        "# To show the first 5 rows\n",
        "data_coupon_bar.head()"
      ]
    },
    {
      "cell_type": "markdown",
      "metadata": {
        "id": "8ue6uCqf_qRJ"
      },
      "source": [
        "2. What proportion of bar coupons were accepted?\n"
      ]
    },
    {
      "cell_type": "code",
      "execution_count": 63,
      "metadata": {
        "id": "hSdte8Mi_qRK",
        "colab": {
          "base_uri": "https://localhost:8080/"
        },
        "outputId": "6ed60c91-afde-43bb-d6c0-88fd44dfab8e"
      },
      "outputs": [
        {
          "output_type": "stream",
          "name": "stdout",
          "text": [
            "Proportion of total bar coupons were accepted: 41.0 %\n"
          ]
        }
      ],
      "source": [
        "# number_ac_coupon_bar shows the number of accepted coupons for bar\n",
        "# selects only the rows where 'Y' equals 1.\n",
        "# shape[0] returns the number of rows of \"data_coupon_bar\"\n",
        "number_ac_coupon_bar = data_coupon_bar[data_coupon_bar['Y']==1].shape[0]\n",
        "# Total bar coupons\n",
        "total_bar_coupons = data[data[\"coupon\"]=='Bar'].shape[0]\n",
        "#Calculate the proportion\n",
        "proportion_ac_coupon_bar = number_ac_coupon_bar/total_bar_coupons\n",
        "percentage_ac_coupon_bar = round(proportion_ac_coupon_bar*100, 2)\n",
        "print(\"Proportion of total bar coupons were accepted:\",percentage_ac_coupon_bar,\"%\")"
      ]
    },
    {
      "cell_type": "code",
      "source": [
        "# number_nac_coupon_bar shows the number of not accepted coupons for bar\n",
        "# selects only the rows where 'Y' equals 0.\n",
        "# shape[0] returns the number of rows of \"data_coupon_bar\"\n",
        "number_nac_coupon_bar = data_coupon_bar[data_coupon_bar['Y']==0].shape[0]\n",
        "# Total bar coupons\n",
        "total_bar_coupons = data[data[\"coupon\"]=='Bar'].shape[0]\n",
        "#Calculate the proportion\n",
        "proportion_nac_coupon_bar = number_nac_coupon_bar/total_bar_coupons\n",
        "percentage_nac_coupon_bar = round(proportion_nac_coupon_bar*100, 2)\n",
        "print(\"Proportion of total bar coupons were not accepted:\",percentage_nac_coupon_bar,\"%\")"
      ],
      "metadata": {
        "colab": {
          "base_uri": "https://localhost:8080/"
        },
        "id": "ZVbhCjzPpPzd",
        "outputId": "b6ee5402-21a6-48d7-9cb0-10bd4bd60554"
      },
      "execution_count": 64,
      "outputs": [
        {
          "output_type": "stream",
          "name": "stdout",
          "text": [
            "Proportion of total bar coupons were not accepted: 59.0 %\n"
          ]
        }
      ]
    },
    {
      "cell_type": "code",
      "source": [
        "#create pie chart\n",
        "plt.pie([percentage_ac_coupon_bar, percentage_nac_coupon_bar], labels=['accepted', 'not accepted'], colors=['lightgreen','orange'], autopct='%.1f%%')\n",
        "plt.title('Proportion of total bar coupons were accepted')\n",
        "plt.show()"
      ],
      "metadata": {
        "colab": {
          "base_uri": "https://localhost:8080/",
          "height": 428
        },
        "id": "vUHVRtO3qKoM",
        "outputId": "a360d504-a83a-4126-96cd-bbb98360d1a4"
      },
      "execution_count": 78,
      "outputs": [
        {
          "output_type": "display_data",
          "data": {
            "text/plain": [
              "<Figure size 640x480 with 1 Axes>"
            ],
            "image/png": "[encoded data removed]"
          },
          "metadata": {}
        }
      ]
    },
    {
      "cell_type": "markdown",
      "metadata": {
        "id": "85nA_iEi_qRK"
      },
      "source": [
        "3. Compare the acceptance rate between those who went to a bar 3 or fewer times a month to those who went more.\n"
      ]
    },
    {
      "cell_type": "code",
      "source": [
        "# To load again the original dataset coupons.csv\n",
        "data = pd.read_csv('coupons.csv')\n",
        "# The unique values of the column 'Bar'\n",
        "data['Bar'].unique()"
      ],
      "metadata": {
        "colab": {
          "base_uri": "https://localhost:8080/"
        },
        "id": "IM5DrMLOr_eq",
        "outputId": "33b4b221-3860-4c19-b9e1-0d942f353fa0"
      },
      "execution_count": 83,
      "outputs": [
        {
          "output_type": "execute_result",
          "data": {
            "text/plain": [
              "array(['never', 'less1', '1~3', 'gt8', nan, '4~8'], dtype=object)"
            ]
          },
          "metadata": {},
          "execution_count": 83
        }
      ]
    },
    {
      "cell_type": "code",
      "execution_count": 98,
      "metadata": {
        "id": "LBOrN-XM_qRK",
        "colab": {
          "base_uri": "https://localhost:8080/"
        },
        "outputId": "f15e3ecd-e97a-4617-dd5f-693136cc8294"
      },
      "outputs": [
        {
          "output_type": "stream",
          "name": "stdout",
          "text": [
            "Acceptance rate for those who visit bars 3 or fewer times a month regarding to total number of their group (<=3):\n",
            " 56.21 %\n",
            "Acceptance rate for those who visit bars more than 3 times a month regarding to total number of their group (>3):\n",
            " 62.25 %\n",
            "Acceptance rate for those who visit bars 3 or fewer times a month regarding to total number of all bar visiters (<=3):\n",
            " 84.93 %\n",
            "Acceptance rate for those who visit bars more than 3 times a month regarding to total number of all bar visiters (>3):\n",
            " 12.02 %\n"
          ]
        }
      ],
      "source": [
        "# To load again the original dataset coupons.csv\n",
        "data = pd.read_csv('coupons.csv')\n",
        "# Mapping the unique values of 'Bar' to numerical values\n",
        "bar_mapping = {'never': 0, 'less1': 1, '1~3': 2, '4~8': 5, 'gt8': 8}\n",
        "data['Bar'] = data['Bar'].map(bar_mapping)\n",
        "\n",
        "#ThreeOrlessBar shows in the dataset who go to a bar 3 or fewer times a month\n",
        "ThreeOrlessBar = data[data['Bar'] <=3]\n",
        "# The total number of observations went to a bar 3 or fewer times a month\n",
        "total_ThreeOrlessBar =  data[data['Bar'] <=3].shape[0]\n",
        "#The number of peopel who acepted the coupon and go to a bar 3 or fewer times a month\n",
        "ThreeOrlessBar_ac=ThreeOrlessBar[ThreeOrlessBar[\"Y\"]==1].shape[0]\n",
        "# acceptance rate go to a bar 3 or fewer times a month\n",
        "rate_ThreeOrlessBar_ac =  round((ThreeOrlessBar_ac/total_ThreeOrlessBar)*100,2 )\n",
        "\n",
        "#MoreThanThreeBar shows in the dataset who went to a bar more than 3 times a month\n",
        "MoreThanThreeBar = data[data['Bar'] > 3]\n",
        "# The total number of observations went to a bar  more than 3 times a month\n",
        "total_MoreThanThreeBar =  data[data['Bar'] >3].shape[0]\n",
        "MoreThanThreeBar_ac=MoreThanThreeBar[MoreThanThreeBar[\"Y\"]==1].shape[0]\n",
        "# acceptance rate went to a bar more than 3 times a month\n",
        "rate_MoreThanThreeBar_ac =  round((MoreThanThreeBar_ac/total_MoreThanThreeBar)*100,2 )\n",
        "#********************\n",
        "# The total number of all observations who go to a bar (!=0)\n",
        "Total_Bar_visiters = data[data['Bar'] >=1].shape[0]\n",
        "# acceptance rate go to a bar 3 or fewer times a month to the Total_Bar_visiters\n",
        "rate_ThreeOrlessBar_To_TotalBarVisitersac =   round((ThreeOrlessBar_ac/Total_Bar_visiters)*100,2 )\n",
        "# acceptance rate go to a bar more than 3 times a month to the Total_Bar_visiters\n",
        "rate_MoreThanThreeBar_To_TotalBarVisitersac =   round((MoreThanThreeBar_ac/Total_Bar_visiters)*100,2 )\n",
        "#****************************\n",
        "print(\"Acceptance rate for those who visit bars 3 or fewer times a month regarding to total number of their group (<=3):\\n\",rate_ThreeOrlessBar_ac,\"%\")\n",
        "print(\"Acceptance rate for those who visit bars more than 3 times a month regarding to total number of their group (>3):\\n\",rate_MoreThanThreeBar_ac,\"%\")\n",
        "#***************\n",
        "print(\"Acceptance rate for those who visit bars 3 or fewer times a month regarding to total number of all bar visiters (<=3):\\n\",rate_ThreeOrlessBar_To_TotalBarVisitersac,\"%\")\n",
        "print(\"Acceptance rate for those who visit bars more than 3 times a month regarding to total number of all bar visiters (>3):\\n\",rate_MoreThanThreeBar_To_TotalBarVisitersac,\"%\")"
      ]
    },
    {
      "cell_type": "markdown",
      "source": [
        "**@Finding**\\\n",
        "Frequent bar-goers (>3 visits/month) are more likely to accept bar coupons on an individual basis (higher acceptance rate within their group).\n",
        "However, the majority of total coupon acceptances come from less frequent bar-goers (<=3 visits/month), likely due to their larger representation in the population."
      ],
      "metadata": {
        "id": "ucU6dN0_3qn6"
      }
    },
    {
      "cell_type": "markdown",
      "metadata": {
        "id": "RBgcQwH4_qRK"
      },
      "source": [
        "4. Compare the acceptance rate between drivers who go to a bar more than once a month and are over the age of 25 to the all others.  Is there a difference?\n"
      ]
    },
    {
      "cell_type": "code",
      "source": [
        "# To load again the original dataset coupons.csv\n",
        "data = pd.read_csv('coupons.csv')\n",
        "# The unique values of column 'age'\n",
        "age_col =data['age'].unique()\n",
        "print(age_col)"
      ],
      "metadata": {
        "colab": {
          "base_uri": "https://localhost:8080/"
        },
        "id": "_exkiXnM6o1C",
        "outputId": "0b088431-671c-4b50-f129-4772339f614d"
      },
      "execution_count": 101,
      "outputs": [
        {
          "output_type": "stream",
          "name": "stdout",
          "text": [
            "['21' '46' '26' '31' '41' '50plus' '36' 'below21']\n"
          ]
        }
      ]
    },
    {
      "cell_type": "code",
      "execution_count": 103,
      "metadata": {
        "id": "bf28bbeX_qRK",
        "colab": {
          "base_uri": "https://localhost:8080/"
        },
        "outputId": "ba3dbf77-222f-4b92-d165-1923cf4fdd1c"
      },
      "outputs": [
        {
          "output_type": "stream",
          "name": "stdout",
          "text": [
            "Group 1 is drivers who go to a bar more than once a month and are over the age of 25: 62.15 %\n",
            "Group 2 is drivers who go to a bar once a month or less, or are 25 years old or younger.: 55.4 %\n"
          ]
        }
      ],
      "source": [
        "# To load again the original dataset coupons.csv\n",
        "data = pd.read_csv('coupons.csv')\n",
        "#using a dictionary to map str of age to numeric values\n",
        "age_mapping = {\n",
        "    'below21':20,\n",
        "    '21': 21,\n",
        "    '26': 26,\n",
        "    '31': 31,\n",
        "    '36': 36,\n",
        "    '41': 41,\n",
        "    '46': 46,\n",
        "    '50plus': 50\n",
        "}\n",
        "\n",
        "# Map the values in the age column\n",
        "data['Age'] = data['age'].map(age_mapping)\n",
        "#\n",
        "# Mapping the features of 'Bar' to numerical values\n",
        "bar_mapping = {'never': 0, 'less1': 1, '1~3': 2, '4~8': 5, 'gt8': 8}\n",
        "data['Bar'] = data['Bar'].map(bar_mapping)\n",
        "\n",
        "# The following steps are to build the first group (Group1) of the drivers\n",
        "# who go to a bar more than once a month and\n",
        "# are over 25 and accepted the coupons\n",
        "MoreThanOneBar = data[data['Bar'] > 1]\n",
        "number_MoreThanOneBar = MoreThanOneBar.shape[0]\n",
        "# The number of drivers over 25 who go to a bar more than once a month\n",
        "Over25_MoreThanOneBar =MoreThanOneBar[MoreThanOneBar['Age']>25]\n",
        "total_Over25_MoreThanOneBar =Over25_MoreThanOneBar.shape[0]\n",
        "# Building Group1: Drivers over 25 who go to a bar more than once a month and accepted the coupons\n",
        "Group1 =Over25_MoreThanOneBar[Over25_MoreThanOneBar['Y']==1]\n",
        "number_Group1 = Group1.shape[0]\n",
        "#acceptance rate of drivers over 25\n",
        "rate_Group1 = round((number_Group1/total_Over25_MoreThanOneBar)*100,2)\n",
        "# print the result\n",
        "print(\"Group 1 is drivers who go to a bar more than once a month and are over the age of 25:\",rate_Group1,\"%\")\n",
        "\n",
        "# The following steps are to build the other group (Group2) of the drivers accepted coupons\n",
        "# who go to a bar once a month or less, \"or\"\n",
        "# they are 25 years old or younger.\n",
        "\n",
        "# Group2_general, who\n",
        "# go to a bar once a month or less, or\n",
        "# are 25 years old or younger.\n",
        "Group2_general = data[(data['Bar'] <= 1) | (data['Age'] <= 25)]\n",
        "total_Group2_general = Group2_general.shape[0]\n",
        "# Group2 presents the drivers of Group2_general who accepted the coupons\n",
        "Group2 =Group2_general[Group2_general['Y']==1]\n",
        "number_Group2 = Group2.shape[0]\n",
        "#acceptance rate of drivers over 25\n",
        "rate_Group2 = round((number_Group2/total_Group2_general)*100,2)\n",
        "# print the result\n",
        "print(\"Group 2 is drivers who go to a bar once a month or less, or are 25 years old or younger.:\",rate_Group2,\"%\")"
      ]
    },
    {
      "cell_type": "markdown",
      "source": [
        "**@Finding**\n",
        "\n",
        "Older and more frequent bar-goers (Group 1) are more likely to accept bar-related coupons compared to the younger and less frequent visitors (Group 2)."
      ],
      "metadata": {
        "id": "_IBcMhgp8ag9"
      }
    },
    {
      "cell_type": "markdown",
      "metadata": {
        "id": "S4RKT4PJ_qRK"
      },
      "source": [
        "5. Use the same process to compare the acceptance rate between drivers who go to bars more than once a month and had passengers that were not a kid and had occupations other than farming, fishing, or forestry.\n"
      ]
    },
    {
      "cell_type": "code",
      "execution_count": null,
      "metadata": {
        "id": "sENaI2Tg_qRK",
        "colab": {
          "base_uri": "https://localhost:8080/"
        },
        "outputId": "7c0163f2-c523-48de-8fe3-cbb4cc923ddc"
      },
      "outputs": [
        {
          "output_type": "stream",
          "name": "stdout",
          "text": [
            "The rate of Groupx who accepted coupon is: 62.31 %\n"
          ]
        }
      ],
      "source": [
        "# To load again the original dataset coupons.csv\n",
        "data = pd.read_csv('coupons.csv')\n",
        "\n",
        "# Mapping the features of 'Bar' to numerical values\n",
        "bar_mapping = {'never': 0, 'less1': 1, '1~3': 2, '4~8': 5, 'gt8': 8}\n",
        "data['Bar'] = data['Bar'].map(bar_mapping)\n",
        "\n",
        "# Building GroupX_general based on the following conditions:\n",
        "#  Bar > 1\n",
        "# passanger is not Kid(s)\n",
        "# occupation is not \"Farming, Fishing, and Forestry\"\n",
        "# additional to these, the Goupx accepted the coupon Y == 1\n",
        "Groupx_general = data[(data['Bar'] > 1) & (data['passanger'] != \"Kid(s)\") &  (data['occupation'] != \"Farming, Fishing, and Forestry\")]\n",
        "total_Groupx_general = Groupx_general.shape[0]\n",
        "Groupx = data[(data['Bar'] > 1) & (data['passanger'] != \"Kid(s)\")  & (data['occupation'] != \"Farming, Fishing, and Forestry\") & (data['Y']== 1)]\n",
        "nr_Groupx = Groupx.shape[0]\n",
        "rate_Groupx = round((nr_Groupx/total_Groupx_general)*100,2)\n",
        "\n",
        "# print the result\n",
        "print(\"The rate of Groupx who accepted coupon is:\",rate_Groupx,\"%\")\n"
      ]
    },
    {
      "cell_type": "markdown",
      "metadata": {
        "id": "n2LIUTil_qRK"
      },
      "source": [
        "6. Compare the acceptance rates between those drivers who:\n",
        "\n",
        "- go to bars more than once a month, had passengers that were not a kid, and were not widowed *OR*\n",
        "- go to bars more than once a month and are under the age of 30 *OR*\n",
        "- go to cheap restaurants more than 4 times a month and income is less than 50K.\n",
        "\n"
      ]
    },
    {
      "cell_type": "code",
      "execution_count": 110,
      "metadata": {
        "id": "aK_wEzx7_qRK",
        "colab": {
          "base_uri": "https://localhost:8080/",
          "height": 638
        },
        "outputId": "81b615e3-3e43-4fd9-87d7-90427ec79be6"
      },
      "outputs": [
        {
          "output_type": "stream",
          "name": "stdout",
          "text": [
            "The acceptance_rates for 1. Condition is 62.31 %\n",
            "The acceptance_rates for 2. Condition is 61.38 %\n",
            "The acceptance_rates for 3. Condition is 63.12 %\n"
          ]
        },
        {
          "output_type": "execute_result",
          "data": {
            "text/plain": [
              "Text(0.5, 1.0, 'Acceptance Rate Comparison by Conditions')"
            ]
          },
          "metadata": {},
          "execution_count": 110
        },
        {
          "output_type": "display_data",
          "data": {
            "text/plain": [
              "<Figure size 800x600 with 1 Axes>"
            ],
            "image/png": "[encoded data removed]"
          },
          "metadata": {}
        }
      ],
      "source": [
        "from statistics import mean\n",
        "# To load again the original dataset coupons.csv\n",
        "data = pd.read_csv('coupons.csv')\n",
        "\n",
        "# Mapping:\n",
        "# 1. Mapping the features of 'Bar' to numerical values\n",
        "bar_mapping = {'never': 0, 'less1': 1, '1~3': 2, '4~8': 5, 'gt8': 8}\n",
        "data['Bar'] = data['Bar'].map(bar_mapping)\n",
        "\n",
        "#2. Mapping by using a dictionary to map str of age to numeric values\n",
        "age_mapping = {\n",
        "    'below21':20,\n",
        "    '21': 21,\n",
        "    '26': 26,\n",
        "    '31': 31,\n",
        "    '36': 36,\n",
        "    '41': 41,\n",
        "    '46': 46,\n",
        "    '50plus': 50\n",
        "}\n",
        "\n",
        "# Map the values in the age column\n",
        "data['Age'] = data['age'].map(age_mapping)\n",
        "\n",
        "# 3. Mapping the 'income'-range to the respective mean-values\n",
        "income_mapping = {\n",
        "    '$12500 - $24999': round(mean([12500, 24999])),\n",
        "    '$25000 - $37499': round(mean([25000, 37499])),\n",
        "    '$37500 - $49999': round(mean([37500, 49999])),\n",
        "    '$50000 - $62499': round(mean([50000, 62499])),\n",
        "    '$62500 - $74999': round(mean([62500, 74999])),\n",
        "    '$75000 - $87499': round(mean([75000 , 87499])),\n",
        "    '$87500 - $99999': round(mean([87500, 99999]))\n",
        "}\n",
        "data['income'] = data['income'].map(income_mapping)\n",
        "\n",
        "# 1: Building Groupx1 for drivers with the following condition:\n",
        "# go to bars more than once a month, had passengers that were not a kid, and were not widowed\n",
        "Groupx1 = data[(data['Bar'] > 1) & (data['passanger'] != \"Kid(s)\") & (data['maritalStatus'] != \"Widowed\")]\n",
        "# Groupx1_ac accepted coupon\n",
        "Groupx1_ac= Groupx1[Groupx1['Y']==1]\n",
        "#rate of Groupx1_ac\n",
        "rate_Groupx1_ac = round((Groupx1_ac.shape[0]/Groupx1.shape[0])*100,2)\n",
        "\n",
        "# 2: Building Groupx2 for drivers with the following condition:\n",
        "# go to bars more than once a month and are under the age of 30\n",
        "Groupx2 = data[(data['Bar'] > 1) & (data['Age'] > 30)]\n",
        "# Groupx2_ac accepted coupon\n",
        "Groupx2_ac= Groupx2[Groupx2['Y'] ==1]\n",
        "#rate of Groupx2_ac\n",
        "rate_Groupx2_ac = round((Groupx2_ac.shape[0]/Groupx2.shape[0])*100,2)\n",
        "\n",
        "# 3: Building Groupx3 for drivers with the following condition:\n",
        "# go to cheap restaurants more than 4 times a month and income is less than 50K\n",
        "Groupx3 = data[(data['Bar'] > 1) & (data['income'] < 50_000)]\n",
        "# Groupx3_ac accepted coupon\n",
        "Groupx3_ac= Groupx3[Groupx3['Y']==1]\n",
        "#rate of Groupx3_ac\n",
        "rate_Groupx3_ac = round((Groupx3_ac.shape[0]/Groupx3.shape[0])*100,2)\n",
        "\n",
        "# Printing results\n",
        "groups = ['1. Condition', '2. Condition', '3. Condition']\n",
        "acceptance_rates = [rate_Groupx1_ac, rate_Groupx2_ac, rate_Groupx3_ac]\n",
        "print(\"The acceptance_rates for\", groups[0], 'is', acceptance_rates[0],'%')\n",
        "print(\"The acceptance_rates for\", groups[1], 'is', acceptance_rates[1],'%')\n",
        "print(\"The acceptance_rates for\", groups[2], 'is', acceptance_rates[2],'%')\n",
        "\n",
        "# Visualization\n",
        "plt.figure(figsize=(8, 6))\n",
        "plt.bar(groups, acceptance_rates, color='orange', edgecolor=\"black\")\n",
        "plt.xlabel('Conditions', size=14)\n",
        "plt.ylabel('Acceptance Rate (%)', size=14)\n",
        "plt.title('Acceptance Rate Comparison by Conditions')"
      ]
    },
    {
      "cell_type": "markdown",
      "metadata": {
        "id": "v3fL3QkO_qRK"
      },
      "source": [
        "7.  Based on these observations, what do you hypothesize about drivers who accepted the bar coupons?"
      ]
    },
    {
      "cell_type": "markdown",
      "source": [
        "**@Finding**\n",
        "\n",
        "The third group (Groupx3) drivers with lower incomes (< $50K) has higher acceptance rate.\n",
        "It might be they accepted coupons as an opportunity for cost savings, potentially making them more receptive to bar coupons."
      ],
      "metadata": {
        "id": "HVWO8Bc4BFm-"
      }
    },
    {
      "cell_type": "markdown",
      "metadata": {
        "id": "r4Hu1zOb_qRL"
      },
      "source": [
        "### Independent Investigation\n",
        "\n",
        "Using the bar coupon example as motivation, you are to explore one of the other coupon groups and try to determine the characteristics of passengers who accept the coupons.  "
      ]
    },
    {
      "cell_type": "code",
      "execution_count": null,
      "metadata": {
        "id": "0c71cQhu_qRL",
        "colab": {
          "base_uri": "https://localhost:8080/"
        },
        "outputId": "2613d6cd-e269-4d32-ed58-ab8343c2d4bf"
      },
      "outputs": [
        {
          "output_type": "stream",
          "name": "stdout",
          "text": [
            "Acceptance rate for passengers with children: 54.16 %\n",
            "Acceptance rate for passengers without children: 58.74 %\n"
          ]
        }
      ],
      "source": [
        "# This section compare the acceptance rates of coupons based on whether passengers have children\n",
        "#To load again the original dataset coupons.csv\n",
        "data = pd.read_csv('coupons.csv')\n",
        "\n",
        "with_children = data[data['has_children'] == 1]\n",
        "without_children = data[data['has_children'] == 0]\n",
        "\n",
        "# Calculate acceptance rate with children\n",
        "ac_with_children = with_children[with_children['Y'] ==1]\n",
        "ac_rate_with_children =round((ac_with_children.shape[0]/with_children.shape[0])*100, 2)\n",
        "\n",
        "# Calculate acceptance rate without children\n",
        "ac_without_children = without_children[without_children['Y'] ==1]\n",
        "ac_rate_without_children =round((ac_without_children.shape[0]/without_children.shape[0])*100, 2)\n",
        "\n",
        "# Print results\n",
        "print(\"Acceptance rate for passengers with children:\",ac_rate_with_children,\"%\")\n",
        "print(\"Acceptance rate for passengers without children:\",ac_rate_without_children,\"%\")\n",
        "\n"
      ]
    },
    {
      "cell_type": "code",
      "execution_count": null,
      "metadata": {
        "id": "QEsBkvIN_qRL",
        "colab": {
          "base_uri": "https://localhost:8080/",
          "height": 452
        },
        "outputId": "c585b62b-8a50-4968-f0a1-a2cd7c4e476c"
      },
      "outputs": [
        {
          "output_type": "display_data",
          "data": {
            "text/plain": [
              "<Figure size 640x480 with 1 Axes>"
            ],
            "image/png": "[encoded data removed]"
          },
          "metadata": {}
        }
      ],
      "source": [
        "# Visualization\n",
        "groups = ['With Children', 'Without Children']\n",
        "ac_rates = [ac_rate_with_children, ac_rate_without_children]\n",
        "\n",
        "# Create a bar plot\n",
        "plt.bar(groups, ac_rates, color='green', edgecolor=\"black\")\n",
        "plt.title('Acceptance Rates by Having Children')\n",
        "plt.ylabel('Acceptance Rate (%)')\n",
        "plt.show()"
      ]
    },
    {
      "cell_type": "markdown",
      "source": [
        "**@Finding**\n",
        "\n",
        "The drivers without children have a higher tendency to accept coupons.\n",
        "This can help the targeted coupon strategies, to offer coupons for those without children"
      ],
      "metadata": {
        "id": "b_Eig9g-BXZz"
      }
    },
    {
      "cell_type": "code",
      "execution_count": null,
      "metadata": {
        "id": "RrqUWn7d_qRL"
      },
      "outputs": [],
      "source": []
    },
    {
      "cell_type": "code",
      "execution_count": null,
      "metadata": {
        "id": "_oykf8YP_qRL"
      },
      "outputs": [],
      "source": []
    }
  ],
  "metadata": {
    "kernelspec": {
      "display_name": "Python 3 (ipykernel)",
      "language": "python",
      "name": "python3"
    },
    "language_info": {
      "codemirror_mode": {
        "name": "ipython",
        "version": 3
      },
      "file_extension": ".py",
      "mimetype": "text/x-python",
      "name": "python",
      "nbconvert_exporter": "python",
      "pygments_lexer": "ipython3",
      "version": "3.12.1"
    },
    "colab": {
      "provenance": []
    }
  },
  "nbformat": 4,
  "nbformat_minor": 0
}